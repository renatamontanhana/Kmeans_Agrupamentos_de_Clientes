{
  "nbformat": 4,
  "nbformat_minor": 0,
  "metadata": {
    "colab": {
      "provenance": [],
      "collapsed_sections": [
        "IAcjJSjvw_nO",
        "aLZY1kNAyKdr",
        "BIz-8b_wxFB-",
        "-7hp1ccIxHxW",
        "BPld4YyKez8T",
        "8e4CgAlXd-P_",
        "8ck-sZGidQjQ",
        "8WBOZU-BdZxH"
      ],
      "include_colab_link": true
    },
    "kernelspec": {
      "name": "python3",
      "display_name": "Python 3"
    },
    "accelerator": "GPU"
  },
  "cells": [
    {
      "cell_type": "markdown",
      "metadata": {
        "id": "view-in-github",
        "colab_type": "text"
      },
      "source": [
        "<a href=\"https://colab.research.google.com/github/renatamontanhana/Kmeans_Agrupamentos_de_Clientes/blob/main/Kmeans_Agrupamentos_de_Clientes.ipynb\" target=\"_parent\"><img src=\"https://colab.research.google.com/assets/colab-badge.svg\" alt=\"Open In Colab\"/></a>"
      ]
    },
    {
      "cell_type": "markdown",
      "metadata": {
        "id": "mdD8uie7g1rP"
      },
      "source": [
        "![alt text](https://encrypted-tbn0.gstatic.com/images?q=tbn%3AANd9GcTK4gQ9nhwHHaSXMHpeggWg7twwMCgb877smkRmtkmDeDoGF9Z6&usqp=CAU)"
      ]
    },
    {
      "cell_type": "markdown",
      "metadata": {
        "id": "auIjaPFDw6-X"
      },
      "source": [
        "# <font color='PURPLE'>Ciência dos Dados na Prática</font>\n",
        "\n",
        "# <font color='GREY'> Agrupamento de Clientes por Nível de Consumo</font>\n"
      ]
    },
    {
      "cell_type": "markdown",
      "metadata": {
        "id": "EZtwXlub7M_m"
      },
      "source": [
        "![alt text](https://i.pinimg.com/originals/d4/b1/77/d4b177a61d66ee4586a62c707ead51b1.gif)\n",
        "\n",
        "![alt text](https://i.gifer.com/origin/ee/eeb870e25ea1d0d8444c06d750fe2523_w200.webp)\n",
        "\n",
        "![alt text](https://i.gifer.com/Kdef.gif)\n",
        "\n",
        "![alt text](https://1.bp.blogspot.com/-KSMNdXEhzd8/VVN7caTrrbI/AAAAAAAAL_s/lE4_lyeUJvU/s640/PpyAP1y%2B(1).gif)"
      ]
    },
    {
      "cell_type": "markdown",
      "metadata": {
        "id": "XRJb4sERw6-X"
      },
      "source": [
        "#1° Problema de Negócio\n",
        "Precisamos construir uma Máquina Preditiva que, a partir de dados de consumo de energia de clientes, agrupe os consumidores por similaridade, afim de compreender o comportamento dos clientes e sua relação com o consumo de energia.\n",
        "\n"
      ]
    },
    {
      "cell_type": "markdown",
      "metadata": {
        "id": "IAcjJSjvw_nO"
      },
      "source": [
        "# 2° Análise Exploratória dos Dados"
      ]
    },
    {
      "cell_type": "markdown",
      "metadata": {
        "id": "aLZY1kNAyKdr"
      },
      "source": [
        "### Fonte de Dados\n",
        "https://archive.ics.uci.edu/ml/datasets/Individual+household+electric+power+consumption\n",
        "\n",
        "\n",
        "Medidas de consumo de energia elétrica em uma residência com uma taxa de amostragem de um minuto durante um período de quase 4 anos. Diferentes grandezas elétricas e alguns valores de submedição estão disponíveis.\n",
        "\n",
        "\n",
        "\n",
        "\n",
        "### AD (Arquitetura de Dados/Dicionário de Dados):\n",
        "\n",
        "1. **data**: Data no formato dd / mm / aaaa\n",
        "2. **hora**: hora no formato hh: mm: ss\n",
        "3. **global_active_power**: potência ativa média global por minuto (em quilowatt)\n",
        "4. **potência reativa global da família**: potência reativa média global por minuto (em quilowatt)\n",
        "5. **voltagem**: tensão média por minuto (em volt)\n",
        "6. **intensidade global**: intensidade de corrente média por minuto global doméstica (em ampere)\n",
        "7. **sub_metering_1**: submedição de energia nº 1 (em watt-hora de energia ativa ) Corresponde à **cozinha**, que contém essencialmente uma máquina de lavar louça, um forno e um micro-ondas (a placa eléctrica não é eléctrica mas sim a gás).\n",
        "8. **sub_metering_2**: sub-medição de energia nº 2 (em watt-hora de energia ativa). Corresponde à **lavanderia**, contendo uma máquina de lavar, uma secadora, uma geladeira e uma luz.\n",
        "9. **sub_metering_3**: submedição de energia nº 3 (em watt-hora de energia ativa). Corresponde a um **aquecedor elétrico de água e um ar condicionado**."
      ]
    },
    {
      "cell_type": "code",
      "metadata": {
        "id": "VBrCFtLtxdoj"
      },
      "source": [
        "# Imports\n",
        "import pandas as pd\n",
        "import numpy as np\n",
        "import matplotlib.pyplot as plt\n",
        "from matplotlib import pylab\n",
        "from sklearn.cluster import KMeans\n",
        "from sklearn.decomposition import PCA\n",
        "from sklearn.model_selection import train_test_split\n",
        "from scipy.spatial.distance import cdist, pdist\n",
        "from sklearn.metrics import silhouette_score\n",
        "import warnings\n",
        "warnings.filterwarnings(\"ignore\")\n",
        "%matplotlib inline"
      ],
      "execution_count": 2,
      "outputs": []
    },
    {
      "cell_type": "code",
      "metadata": {
        "id": "7bFqaSsCyHe0"
      },
      "source": [
        "# Carregando os dados\n",
        "dataset = pd.read_csv('/content/household_power_consumption.txt', delimiter = ';', low_memory = False)"
      ],
      "execution_count": 3,
      "outputs": []
    },
    {
      "cell_type": "code",
      "metadata": {
        "colab": {
          "base_uri": "https://localhost:8080/",
          "height": 226
        },
        "id": "x9q_A1UgyOHq",
        "outputId": "396cfdf8-4755-4d7d-c85a-105117ab5b69"
      },
      "source": [
        "# visualizar as Primeiras Linhas\n",
        "dataset.head()"
      ],
      "execution_count": 4,
      "outputs": [
        {
          "output_type": "execute_result",
          "data": {
            "text/plain": [
              "         Date      Time Global_active_power Global_reactive_power  Voltage  \\\n",
              "0  16/12/2006  17:24:00               4.216                 0.418  234.840   \n",
              "1  16/12/2006  17:25:00               5.360                 0.436  233.630   \n",
              "2  16/12/2006  17:26:00               5.374                 0.498  233.290   \n",
              "3  16/12/2006  17:27:00               5.388                 0.502  233.740   \n",
              "4  16/12/2006  17:28:00               3.666                 0.528  235.680   \n",
              "\n",
              "  Global_intensity Sub_metering_1 Sub_metering_2  Sub_metering_3  \n",
              "0           18.400          0.000          1.000            17.0  \n",
              "1           23.000          0.000          1.000            16.0  \n",
              "2           23.000          0.000          2.000            17.0  \n",
              "3           23.000          0.000          1.000            17.0  \n",
              "4           15.800          0.000          1.000            17.0  "
            ],
            "text/html": [
              "\n",
              "  <div id=\"df-ad30a0e5-a5dd-4c06-9914-3519760cd62d\" class=\"colab-df-container\">\n",
              "    <div>\n",
              "<style scoped>\n",
              "    .dataframe tbody tr th:only-of-type {\n",
              "        vertical-align: middle;\n",
              "    }\n",
              "\n",
              "    .dataframe tbody tr th {\n",
              "        vertical-align: top;\n",
              "    }\n",
              "\n",
              "    .dataframe thead th {\n",
              "        text-align: right;\n",
              "    }\n",
              "</style>\n",
              "<table border=\"1\" class=\"dataframe\">\n",
              "  <thead>\n",
              "    <tr style=\"text-align: right;\">\n",
              "      <th></th>\n",
              "      <th>Date</th>\n",
              "      <th>Time</th>\n",
              "      <th>Global_active_power</th>\n",
              "      <th>Global_reactive_power</th>\n",
              "      <th>Voltage</th>\n",
              "      <th>Global_intensity</th>\n",
              "      <th>Sub_metering_1</th>\n",
              "      <th>Sub_metering_2</th>\n",
              "      <th>Sub_metering_3</th>\n",
              "    </tr>\n",
              "  </thead>\n",
              "  <tbody>\n",
              "    <tr>\n",
              "      <th>0</th>\n",
              "      <td>16/12/2006</td>\n",
              "      <td>17:24:00</td>\n",
              "      <td>4.216</td>\n",
              "      <td>0.418</td>\n",
              "      <td>234.840</td>\n",
              "      <td>18.400</td>\n",
              "      <td>0.000</td>\n",
              "      <td>1.000</td>\n",
              "      <td>17.0</td>\n",
              "    </tr>\n",
              "    <tr>\n",
              "      <th>1</th>\n",
              "      <td>16/12/2006</td>\n",
              "      <td>17:25:00</td>\n",
              "      <td>5.360</td>\n",
              "      <td>0.436</td>\n",
              "      <td>233.630</td>\n",
              "      <td>23.000</td>\n",
              "      <td>0.000</td>\n",
              "      <td>1.000</td>\n",
              "      <td>16.0</td>\n",
              "    </tr>\n",
              "    <tr>\n",
              "      <th>2</th>\n",
              "      <td>16/12/2006</td>\n",
              "      <td>17:26:00</td>\n",
              "      <td>5.374</td>\n",
              "      <td>0.498</td>\n",
              "      <td>233.290</td>\n",
              "      <td>23.000</td>\n",
              "      <td>0.000</td>\n",
              "      <td>2.000</td>\n",
              "      <td>17.0</td>\n",
              "    </tr>\n",
              "    <tr>\n",
              "      <th>3</th>\n",
              "      <td>16/12/2006</td>\n",
              "      <td>17:27:00</td>\n",
              "      <td>5.388</td>\n",
              "      <td>0.502</td>\n",
              "      <td>233.740</td>\n",
              "      <td>23.000</td>\n",
              "      <td>0.000</td>\n",
              "      <td>1.000</td>\n",
              "      <td>17.0</td>\n",
              "    </tr>\n",
              "    <tr>\n",
              "      <th>4</th>\n",
              "      <td>16/12/2006</td>\n",
              "      <td>17:28:00</td>\n",
              "      <td>3.666</td>\n",
              "      <td>0.528</td>\n",
              "      <td>235.680</td>\n",
              "      <td>15.800</td>\n",
              "      <td>0.000</td>\n",
              "      <td>1.000</td>\n",
              "      <td>17.0</td>\n",
              "    </tr>\n",
              "  </tbody>\n",
              "</table>\n",
              "</div>\n",
              "    <div class=\"colab-df-buttons\">\n",
              "\n",
              "  <div class=\"colab-df-container\">\n",
              "    <button class=\"colab-df-convert\" onclick=\"convertToInteractive('df-ad30a0e5-a5dd-4c06-9914-3519760cd62d')\"\n",
              "            title=\"Convert this dataframe to an interactive table.\"\n",
              "            style=\"display:none;\">\n",
              "\n",
              "  <svg xmlns=\"http://www.w3.org/2000/svg\" height=\"24px\" viewBox=\"0 -960 960 960\">\n",
              "    <path d=\"M120-120v-720h720v720H120Zm60-500h600v-160H180v160Zm220 220h160v-160H400v160Zm0 220h160v-160H400v160ZM180-400h160v-160H180v160Zm440 0h160v-160H620v160ZM180-180h160v-160H180v160Zm440 0h160v-160H620v160Z\"/>\n",
              "  </svg>\n",
              "    </button>\n",
              "\n",
              "  <style>\n",
              "    .colab-df-container {\n",
              "      display:flex;\n",
              "      gap: 12px;\n",
              "    }\n",
              "\n",
              "    .colab-df-convert {\n",
              "      background-color: #E8F0FE;\n",
              "      border: none;\n",
              "      border-radius: 50%;\n",
              "      cursor: pointer;\n",
              "      display: none;\n",
              "      fill: #1967D2;\n",
              "      height: 32px;\n",
              "      padding: 0 0 0 0;\n",
              "      width: 32px;\n",
              "    }\n",
              "\n",
              "    .colab-df-convert:hover {\n",
              "      background-color: #E2EBFA;\n",
              "      box-shadow: 0px 1px 2px rgba(60, 64, 67, 0.3), 0px 1px 3px 1px rgba(60, 64, 67, 0.15);\n",
              "      fill: #174EA6;\n",
              "    }\n",
              "\n",
              "    .colab-df-buttons div {\n",
              "      margin-bottom: 4px;\n",
              "    }\n",
              "\n",
              "    [theme=dark] .colab-df-convert {\n",
              "      background-color: #3B4455;\n",
              "      fill: #D2E3FC;\n",
              "    }\n",
              "\n",
              "    [theme=dark] .colab-df-convert:hover {\n",
              "      background-color: #434B5C;\n",
              "      box-shadow: 0px 1px 3px 1px rgba(0, 0, 0, 0.15);\n",
              "      filter: drop-shadow(0px 1px 2px rgba(0, 0, 0, 0.3));\n",
              "      fill: #FFFFFF;\n",
              "    }\n",
              "  </style>\n",
              "\n",
              "    <script>\n",
              "      const buttonEl =\n",
              "        document.querySelector('#df-ad30a0e5-a5dd-4c06-9914-3519760cd62d button.colab-df-convert');\n",
              "      buttonEl.style.display =\n",
              "        google.colab.kernel.accessAllowed ? 'block' : 'none';\n",
              "\n",
              "      async function convertToInteractive(key) {\n",
              "        const element = document.querySelector('#df-ad30a0e5-a5dd-4c06-9914-3519760cd62d');\n",
              "        const dataTable =\n",
              "          await google.colab.kernel.invokeFunction('convertToInteractive',\n",
              "                                                    [key], {});\n",
              "        if (!dataTable) return;\n",
              "\n",
              "        const docLinkHtml = 'Like what you see? Visit the ' +\n",
              "          '<a target=\"_blank\" href=https://colab.research.google.com/notebooks/data_table.ipynb>data table notebook</a>'\n",
              "          + ' to learn more about interactive tables.';\n",
              "        element.innerHTML = '';\n",
              "        dataTable['output_type'] = 'display_data';\n",
              "        await google.colab.output.renderOutput(dataTable, element);\n",
              "        const docLink = document.createElement('div');\n",
              "        docLink.innerHTML = docLinkHtml;\n",
              "        element.appendChild(docLink);\n",
              "      }\n",
              "    </script>\n",
              "  </div>\n",
              "\n",
              "\n",
              "<div id=\"df-671d881b-f6a3-43c8-966b-9a790e35f0b8\">\n",
              "  <button class=\"colab-df-quickchart\" onclick=\"quickchart('df-671d881b-f6a3-43c8-966b-9a790e35f0b8')\"\n",
              "            title=\"Suggest charts\"\n",
              "            style=\"display:none;\">\n",
              "\n",
              "<svg xmlns=\"http://www.w3.org/2000/svg\" height=\"24px\"viewBox=\"0 0 24 24\"\n",
              "     width=\"24px\">\n",
              "    <g>\n",
              "        <path d=\"M19 3H5c-1.1 0-2 .9-2 2v14c0 1.1.9 2 2 2h14c1.1 0 2-.9 2-2V5c0-1.1-.9-2-2-2zM9 17H7v-7h2v7zm4 0h-2V7h2v10zm4 0h-2v-4h2v4z\"/>\n",
              "    </g>\n",
              "</svg>\n",
              "  </button>\n",
              "\n",
              "<style>\n",
              "  .colab-df-quickchart {\n",
              "      --bg-color: #E8F0FE;\n",
              "      --fill-color: #1967D2;\n",
              "      --hover-bg-color: #E2EBFA;\n",
              "      --hover-fill-color: #174EA6;\n",
              "      --disabled-fill-color: #AAA;\n",
              "      --disabled-bg-color: #DDD;\n",
              "  }\n",
              "\n",
              "  [theme=dark] .colab-df-quickchart {\n",
              "      --bg-color: #3B4455;\n",
              "      --fill-color: #D2E3FC;\n",
              "      --hover-bg-color: #434B5C;\n",
              "      --hover-fill-color: #FFFFFF;\n",
              "      --disabled-bg-color: #3B4455;\n",
              "      --disabled-fill-color: #666;\n",
              "  }\n",
              "\n",
              "  .colab-df-quickchart {\n",
              "    background-color: var(--bg-color);\n",
              "    border: none;\n",
              "    border-radius: 50%;\n",
              "    cursor: pointer;\n",
              "    display: none;\n",
              "    fill: var(--fill-color);\n",
              "    height: 32px;\n",
              "    padding: 0;\n",
              "    width: 32px;\n",
              "  }\n",
              "\n",
              "  .colab-df-quickchart:hover {\n",
              "    background-color: var(--hover-bg-color);\n",
              "    box-shadow: 0 1px 2px rgba(60, 64, 67, 0.3), 0 1px 3px 1px rgba(60, 64, 67, 0.15);\n",
              "    fill: var(--button-hover-fill-color);\n",
              "  }\n",
              "\n",
              "  .colab-df-quickchart-complete:disabled,\n",
              "  .colab-df-quickchart-complete:disabled:hover {\n",
              "    background-color: var(--disabled-bg-color);\n",
              "    fill: var(--disabled-fill-color);\n",
              "    box-shadow: none;\n",
              "  }\n",
              "\n",
              "  .colab-df-spinner {\n",
              "    border: 2px solid var(--fill-color);\n",
              "    border-color: transparent;\n",
              "    border-bottom-color: var(--fill-color);\n",
              "    animation:\n",
              "      spin 1s steps(1) infinite;\n",
              "  }\n",
              "\n",
              "  @keyframes spin {\n",
              "    0% {\n",
              "      border-color: transparent;\n",
              "      border-bottom-color: var(--fill-color);\n",
              "      border-left-color: var(--fill-color);\n",
              "    }\n",
              "    20% {\n",
              "      border-color: transparent;\n",
              "      border-left-color: var(--fill-color);\n",
              "      border-top-color: var(--fill-color);\n",
              "    }\n",
              "    30% {\n",
              "      border-color: transparent;\n",
              "      border-left-color: var(--fill-color);\n",
              "      border-top-color: var(--fill-color);\n",
              "      border-right-color: var(--fill-color);\n",
              "    }\n",
              "    40% {\n",
              "      border-color: transparent;\n",
              "      border-right-color: var(--fill-color);\n",
              "      border-top-color: var(--fill-color);\n",
              "    }\n",
              "    60% {\n",
              "      border-color: transparent;\n",
              "      border-right-color: var(--fill-color);\n",
              "    }\n",
              "    80% {\n",
              "      border-color: transparent;\n",
              "      border-right-color: var(--fill-color);\n",
              "      border-bottom-color: var(--fill-color);\n",
              "    }\n",
              "    90% {\n",
              "      border-color: transparent;\n",
              "      border-bottom-color: var(--fill-color);\n",
              "    }\n",
              "  }\n",
              "</style>\n",
              "\n",
              "  <script>\n",
              "    async function quickchart(key) {\n",
              "      const quickchartButtonEl =\n",
              "        document.querySelector('#' + key + ' button');\n",
              "      quickchartButtonEl.disabled = true;  // To prevent multiple clicks.\n",
              "      quickchartButtonEl.classList.add('colab-df-spinner');\n",
              "      try {\n",
              "        const charts = await google.colab.kernel.invokeFunction(\n",
              "            'suggestCharts', [key], {});\n",
              "      } catch (error) {\n",
              "        console.error('Error during call to suggestCharts:', error);\n",
              "      }\n",
              "      quickchartButtonEl.classList.remove('colab-df-spinner');\n",
              "      quickchartButtonEl.classList.add('colab-df-quickchart-complete');\n",
              "    }\n",
              "    (() => {\n",
              "      let quickchartButtonEl =\n",
              "        document.querySelector('#df-671d881b-f6a3-43c8-966b-9a790e35f0b8 button');\n",
              "      quickchartButtonEl.style.display =\n",
              "        google.colab.kernel.accessAllowed ? 'block' : 'none';\n",
              "    })();\n",
              "  </script>\n",
              "</div>\n",
              "    </div>\n",
              "  </div>\n"
            ]
          },
          "metadata": {},
          "execution_count": 4
        }
      ]
    },
    {
      "cell_type": "code",
      "metadata": {
        "colab": {
          "base_uri": "https://localhost:8080/"
        },
        "id": "w2EAdC51yRn3",
        "outputId": "d715f284-3de3-4f83-8ce8-5aa68a98deb9"
      },
      "source": [
        "#Dimensões do Dataset em linhas e colunas respectivamente\n",
        "dataset.shape"
      ],
      "execution_count": 7,
      "outputs": [
        {
          "output_type": "execute_result",
          "data": {
            "text/plain": [
              "(113606, 9)"
            ]
          },
          "metadata": {},
          "execution_count": 7
        }
      ]
    },
    {
      "cell_type": "code",
      "metadata": {
        "colab": {
          "base_uri": "https://localhost:8080/"
        },
        "id": "8XNdQi_TyTNw",
        "outputId": "cc92b80d-0b90-44ae-c1f2-58b8e9ca4397"
      },
      "source": [
        "#Verifica o tipo dos Campos\n",
        "dataset.dtypes"
      ],
      "execution_count": 6,
      "outputs": [
        {
          "output_type": "execute_result",
          "data": {
            "text/plain": [
              "Date                      object\n",
              "Time                      object\n",
              "Global_active_power       object\n",
              "Global_reactive_power     object\n",
              "Voltage                   object\n",
              "Global_intensity          object\n",
              "Sub_metering_1            object\n",
              "Sub_metering_2            object\n",
              "Sub_metering_3           float64\n",
              "dtype: object"
            ]
          },
          "metadata": {},
          "execution_count": 6
        }
      ]
    },
    {
      "cell_type": "code",
      "metadata": {
        "id": "EhFcrRW77-E3",
        "colab": {
          "base_uri": "https://localhost:8080/"
        },
        "outputId": "7fc9ee5b-44a5-4140-f5bb-0c7fea6710f8"
      },
      "source": [
        "#Informações Gerais do Dataset\n",
        "dataset.info()"
      ],
      "execution_count": 8,
      "outputs": [
        {
          "output_type": "stream",
          "name": "stdout",
          "text": [
            "<class 'pandas.core.frame.DataFrame'>\n",
            "RangeIndex: 113606 entries, 0 to 113605\n",
            "Data columns (total 9 columns):\n",
            " #   Column                 Non-Null Count   Dtype  \n",
            "---  ------                 --------------   -----  \n",
            " 0   Date                   113606 non-null  object \n",
            " 1   Time                   113606 non-null  object \n",
            " 2   Global_active_power    113606 non-null  object \n",
            " 3   Global_reactive_power  113606 non-null  object \n",
            " 4   Voltage                113606 non-null  object \n",
            " 5   Global_intensity       113606 non-null  object \n",
            " 6   Sub_metering_1         113606 non-null  object \n",
            " 7   Sub_metering_2         113606 non-null  object \n",
            " 8   Sub_metering_3         113598 non-null  float64\n",
            "dtypes: float64(1), object(8)\n",
            "memory usage: 7.8+ MB\n"
          ]
        }
      ]
    },
    {
      "cell_type": "code",
      "metadata": {
        "colab": {
          "base_uri": "https://localhost:8080/"
        },
        "id": "J1KfeZJ8yW8V",
        "outputId": "740e1287-9937-4963-a39a-6b5f0cd67807"
      },
      "source": [
        "# Checando se há valores missing\n",
        "dataset.isnull().values.any()"
      ],
      "execution_count": 9,
      "outputs": [
        {
          "output_type": "execute_result",
          "data": {
            "text/plain": [
              "True"
            ]
          },
          "metadata": {},
          "execution_count": 9
        }
      ]
    },
    {
      "cell_type": "code",
      "metadata": {
        "colab": {
          "base_uri": "https://localhost:8080/"
        },
        "id": "utb0OBk94-FL",
        "outputId": "0dfcdf7b-5e07-4ee7-8d0b-025765d6231b"
      },
      "source": [
        "# Checando onde há valores missing\n",
        "dataset.isnull().sum()"
      ],
      "execution_count": 10,
      "outputs": [
        {
          "output_type": "execute_result",
          "data": {
            "text/plain": [
              "Date                     0\n",
              "Time                     0\n",
              "Global_active_power      0\n",
              "Global_reactive_power    0\n",
              "Voltage                  0\n",
              "Global_intensity         0\n",
              "Sub_metering_1           0\n",
              "Sub_metering_2           0\n",
              "Sub_metering_3           8\n",
              "dtype: int64"
            ]
          },
          "metadata": {},
          "execution_count": 10
        }
      ]
    },
    {
      "cell_type": "markdown",
      "metadata": {
        "id": "BIz-8b_wxFB-"
      },
      "source": [
        "#3° Pré-Processamento dos Dados"
      ]
    },
    {
      "cell_type": "code",
      "metadata": {
        "id": "WoW69nGtVpKU"
      },
      "source": [
        "# Remove os registros com valores NA e remove as duas primeiras colunas (não são necessárias)\n",
        "dataset = dataset.iloc[0:, 2:9].dropna()"
      ],
      "execution_count": 11,
      "outputs": []
    },
    {
      "cell_type": "code",
      "metadata": {
        "id": "88kcVIoyVpKU",
        "colab": {
          "base_uri": "https://localhost:8080/",
          "height": 226
        },
        "outputId": "79444c02-0c1f-45ff-f755-637de9e5b8c3"
      },
      "source": [
        "# Verifica as primeiras linhas\n",
        "dataset.head()"
      ],
      "execution_count": 12,
      "outputs": [
        {
          "output_type": "execute_result",
          "data": {
            "text/plain": [
              "  Global_active_power Global_reactive_power  Voltage Global_intensity  \\\n",
              "0               4.216                 0.418  234.840           18.400   \n",
              "1               5.360                 0.436  233.630           23.000   \n",
              "2               5.374                 0.498  233.290           23.000   \n",
              "3               5.388                 0.502  233.740           23.000   \n",
              "4               3.666                 0.528  235.680           15.800   \n",
              "\n",
              "  Sub_metering_1 Sub_metering_2  Sub_metering_3  \n",
              "0          0.000          1.000            17.0  \n",
              "1          0.000          1.000            16.0  \n",
              "2          0.000          2.000            17.0  \n",
              "3          0.000          1.000            17.0  \n",
              "4          0.000          1.000            17.0  "
            ],
            "text/html": [
              "\n",
              "  <div id=\"df-3001dfb5-4b97-4911-9d22-e5f02d31d4f4\" class=\"colab-df-container\">\n",
              "    <div>\n",
              "<style scoped>\n",
              "    .dataframe tbody tr th:only-of-type {\n",
              "        vertical-align: middle;\n",
              "    }\n",
              "\n",
              "    .dataframe tbody tr th {\n",
              "        vertical-align: top;\n",
              "    }\n",
              "\n",
              "    .dataframe thead th {\n",
              "        text-align: right;\n",
              "    }\n",
              "</style>\n",
              "<table border=\"1\" class=\"dataframe\">\n",
              "  <thead>\n",
              "    <tr style=\"text-align: right;\">\n",
              "      <th></th>\n",
              "      <th>Global_active_power</th>\n",
              "      <th>Global_reactive_power</th>\n",
              "      <th>Voltage</th>\n",
              "      <th>Global_intensity</th>\n",
              "      <th>Sub_metering_1</th>\n",
              "      <th>Sub_metering_2</th>\n",
              "      <th>Sub_metering_3</th>\n",
              "    </tr>\n",
              "  </thead>\n",
              "  <tbody>\n",
              "    <tr>\n",
              "      <th>0</th>\n",
              "      <td>4.216</td>\n",
              "      <td>0.418</td>\n",
              "      <td>234.840</td>\n",
              "      <td>18.400</td>\n",
              "      <td>0.000</td>\n",
              "      <td>1.000</td>\n",
              "      <td>17.0</td>\n",
              "    </tr>\n",
              "    <tr>\n",
              "      <th>1</th>\n",
              "      <td>5.360</td>\n",
              "      <td>0.436</td>\n",
              "      <td>233.630</td>\n",
              "      <td>23.000</td>\n",
              "      <td>0.000</td>\n",
              "      <td>1.000</td>\n",
              "      <td>16.0</td>\n",
              "    </tr>\n",
              "    <tr>\n",
              "      <th>2</th>\n",
              "      <td>5.374</td>\n",
              "      <td>0.498</td>\n",
              "      <td>233.290</td>\n",
              "      <td>23.000</td>\n",
              "      <td>0.000</td>\n",
              "      <td>2.000</td>\n",
              "      <td>17.0</td>\n",
              "    </tr>\n",
              "    <tr>\n",
              "      <th>3</th>\n",
              "      <td>5.388</td>\n",
              "      <td>0.502</td>\n",
              "      <td>233.740</td>\n",
              "      <td>23.000</td>\n",
              "      <td>0.000</td>\n",
              "      <td>1.000</td>\n",
              "      <td>17.0</td>\n",
              "    </tr>\n",
              "    <tr>\n",
              "      <th>4</th>\n",
              "      <td>3.666</td>\n",
              "      <td>0.528</td>\n",
              "      <td>235.680</td>\n",
              "      <td>15.800</td>\n",
              "      <td>0.000</td>\n",
              "      <td>1.000</td>\n",
              "      <td>17.0</td>\n",
              "    </tr>\n",
              "  </tbody>\n",
              "</table>\n",
              "</div>\n",
              "    <div class=\"colab-df-buttons\">\n",
              "\n",
              "  <div class=\"colab-df-container\">\n",
              "    <button class=\"colab-df-convert\" onclick=\"convertToInteractive('df-3001dfb5-4b97-4911-9d22-e5f02d31d4f4')\"\n",
              "            title=\"Convert this dataframe to an interactive table.\"\n",
              "            style=\"display:none;\">\n",
              "\n",
              "  <svg xmlns=\"http://www.w3.org/2000/svg\" height=\"24px\" viewBox=\"0 -960 960 960\">\n",
              "    <path d=\"M120-120v-720h720v720H120Zm60-500h600v-160H180v160Zm220 220h160v-160H400v160Zm0 220h160v-160H400v160ZM180-400h160v-160H180v160Zm440 0h160v-160H620v160ZM180-180h160v-160H180v160Zm440 0h160v-160H620v160Z\"/>\n",
              "  </svg>\n",
              "    </button>\n",
              "\n",
              "  <style>\n",
              "    .colab-df-container {\n",
              "      display:flex;\n",
              "      gap: 12px;\n",
              "    }\n",
              "\n",
              "    .colab-df-convert {\n",
              "      background-color: #E8F0FE;\n",
              "      border: none;\n",
              "      border-radius: 50%;\n",
              "      cursor: pointer;\n",
              "      display: none;\n",
              "      fill: #1967D2;\n",
              "      height: 32px;\n",
              "      padding: 0 0 0 0;\n",
              "      width: 32px;\n",
              "    }\n",
              "\n",
              "    .colab-df-convert:hover {\n",
              "      background-color: #E2EBFA;\n",
              "      box-shadow: 0px 1px 2px rgba(60, 64, 67, 0.3), 0px 1px 3px 1px rgba(60, 64, 67, 0.15);\n",
              "      fill: #174EA6;\n",
              "    }\n",
              "\n",
              "    .colab-df-buttons div {\n",
              "      margin-bottom: 4px;\n",
              "    }\n",
              "\n",
              "    [theme=dark] .colab-df-convert {\n",
              "      background-color: #3B4455;\n",
              "      fill: #D2E3FC;\n",
              "    }\n",
              "\n",
              "    [theme=dark] .colab-df-convert:hover {\n",
              "      background-color: #434B5C;\n",
              "      box-shadow: 0px 1px 3px 1px rgba(0, 0, 0, 0.15);\n",
              "      filter: drop-shadow(0px 1px 2px rgba(0, 0, 0, 0.3));\n",
              "      fill: #FFFFFF;\n",
              "    }\n",
              "  </style>\n",
              "\n",
              "    <script>\n",
              "      const buttonEl =\n",
              "        document.querySelector('#df-3001dfb5-4b97-4911-9d22-e5f02d31d4f4 button.colab-df-convert');\n",
              "      buttonEl.style.display =\n",
              "        google.colab.kernel.accessAllowed ? 'block' : 'none';\n",
              "\n",
              "      async function convertToInteractive(key) {\n",
              "        const element = document.querySelector('#df-3001dfb5-4b97-4911-9d22-e5f02d31d4f4');\n",
              "        const dataTable =\n",
              "          await google.colab.kernel.invokeFunction('convertToInteractive',\n",
              "                                                    [key], {});\n",
              "        if (!dataTable) return;\n",
              "\n",
              "        const docLinkHtml = 'Like what you see? Visit the ' +\n",
              "          '<a target=\"_blank\" href=https://colab.research.google.com/notebooks/data_table.ipynb>data table notebook</a>'\n",
              "          + ' to learn more about interactive tables.';\n",
              "        element.innerHTML = '';\n",
              "        dataTable['output_type'] = 'display_data';\n",
              "        await google.colab.output.renderOutput(dataTable, element);\n",
              "        const docLink = document.createElement('div');\n",
              "        docLink.innerHTML = docLinkHtml;\n",
              "        element.appendChild(docLink);\n",
              "      }\n",
              "    </script>\n",
              "  </div>\n",
              "\n",
              "\n",
              "<div id=\"df-6248e832-eba6-4ffb-bda1-f20090c1d604\">\n",
              "  <button class=\"colab-df-quickchart\" onclick=\"quickchart('df-6248e832-eba6-4ffb-bda1-f20090c1d604')\"\n",
              "            title=\"Suggest charts\"\n",
              "            style=\"display:none;\">\n",
              "\n",
              "<svg xmlns=\"http://www.w3.org/2000/svg\" height=\"24px\"viewBox=\"0 0 24 24\"\n",
              "     width=\"24px\">\n",
              "    <g>\n",
              "        <path d=\"M19 3H5c-1.1 0-2 .9-2 2v14c0 1.1.9 2 2 2h14c1.1 0 2-.9 2-2V5c0-1.1-.9-2-2-2zM9 17H7v-7h2v7zm4 0h-2V7h2v10zm4 0h-2v-4h2v4z\"/>\n",
              "    </g>\n",
              "</svg>\n",
              "  </button>\n",
              "\n",
              "<style>\n",
              "  .colab-df-quickchart {\n",
              "      --bg-color: #E8F0FE;\n",
              "      --fill-color: #1967D2;\n",
              "      --hover-bg-color: #E2EBFA;\n",
              "      --hover-fill-color: #174EA6;\n",
              "      --disabled-fill-color: #AAA;\n",
              "      --disabled-bg-color: #DDD;\n",
              "  }\n",
              "\n",
              "  [theme=dark] .colab-df-quickchart {\n",
              "      --bg-color: #3B4455;\n",
              "      --fill-color: #D2E3FC;\n",
              "      --hover-bg-color: #434B5C;\n",
              "      --hover-fill-color: #FFFFFF;\n",
              "      --disabled-bg-color: #3B4455;\n",
              "      --disabled-fill-color: #666;\n",
              "  }\n",
              "\n",
              "  .colab-df-quickchart {\n",
              "    background-color: var(--bg-color);\n",
              "    border: none;\n",
              "    border-radius: 50%;\n",
              "    cursor: pointer;\n",
              "    display: none;\n",
              "    fill: var(--fill-color);\n",
              "    height: 32px;\n",
              "    padding: 0;\n",
              "    width: 32px;\n",
              "  }\n",
              "\n",
              "  .colab-df-quickchart:hover {\n",
              "    background-color: var(--hover-bg-color);\n",
              "    box-shadow: 0 1px 2px rgba(60, 64, 67, 0.3), 0 1px 3px 1px rgba(60, 64, 67, 0.15);\n",
              "    fill: var(--button-hover-fill-color);\n",
              "  }\n",
              "\n",
              "  .colab-df-quickchart-complete:disabled,\n",
              "  .colab-df-quickchart-complete:disabled:hover {\n",
              "    background-color: var(--disabled-bg-color);\n",
              "    fill: var(--disabled-fill-color);\n",
              "    box-shadow: none;\n",
              "  }\n",
              "\n",
              "  .colab-df-spinner {\n",
              "    border: 2px solid var(--fill-color);\n",
              "    border-color: transparent;\n",
              "    border-bottom-color: var(--fill-color);\n",
              "    animation:\n",
              "      spin 1s steps(1) infinite;\n",
              "  }\n",
              "\n",
              "  @keyframes spin {\n",
              "    0% {\n",
              "      border-color: transparent;\n",
              "      border-bottom-color: var(--fill-color);\n",
              "      border-left-color: var(--fill-color);\n",
              "    }\n",
              "    20% {\n",
              "      border-color: transparent;\n",
              "      border-left-color: var(--fill-color);\n",
              "      border-top-color: var(--fill-color);\n",
              "    }\n",
              "    30% {\n",
              "      border-color: transparent;\n",
              "      border-left-color: var(--fill-color);\n",
              "      border-top-color: var(--fill-color);\n",
              "      border-right-color: var(--fill-color);\n",
              "    }\n",
              "    40% {\n",
              "      border-color: transparent;\n",
              "      border-right-color: var(--fill-color);\n",
              "      border-top-color: var(--fill-color);\n",
              "    }\n",
              "    60% {\n",
              "      border-color: transparent;\n",
              "      border-right-color: var(--fill-color);\n",
              "    }\n",
              "    80% {\n",
              "      border-color: transparent;\n",
              "      border-right-color: var(--fill-color);\n",
              "      border-bottom-color: var(--fill-color);\n",
              "    }\n",
              "    90% {\n",
              "      border-color: transparent;\n",
              "      border-bottom-color: var(--fill-color);\n",
              "    }\n",
              "  }\n",
              "</style>\n",
              "\n",
              "  <script>\n",
              "    async function quickchart(key) {\n",
              "      const quickchartButtonEl =\n",
              "        document.querySelector('#' + key + ' button');\n",
              "      quickchartButtonEl.disabled = true;  // To prevent multiple clicks.\n",
              "      quickchartButtonEl.classList.add('colab-df-spinner');\n",
              "      try {\n",
              "        const charts = await google.colab.kernel.invokeFunction(\n",
              "            'suggestCharts', [key], {});\n",
              "      } catch (error) {\n",
              "        console.error('Error during call to suggestCharts:', error);\n",
              "      }\n",
              "      quickchartButtonEl.classList.remove('colab-df-spinner');\n",
              "      quickchartButtonEl.classList.add('colab-df-quickchart-complete');\n",
              "    }\n",
              "    (() => {\n",
              "      let quickchartButtonEl =\n",
              "        document.querySelector('#df-6248e832-eba6-4ffb-bda1-f20090c1d604 button');\n",
              "      quickchartButtonEl.style.display =\n",
              "        google.colab.kernel.accessAllowed ? 'block' : 'none';\n",
              "    })();\n",
              "  </script>\n",
              "</div>\n",
              "    </div>\n",
              "  </div>\n"
            ]
          },
          "metadata": {},
          "execution_count": 12
        }
      ]
    },
    {
      "cell_type": "code",
      "metadata": {
        "id": "86eah21pVpKU",
        "colab": {
          "base_uri": "https://localhost:8080/"
        },
        "outputId": "6e8b43a5-5817-4791-c6ea-68f0a758aa9a"
      },
      "source": [
        "# Checando se ainda há valores missing\n",
        "dataset.isnull().values.any()"
      ],
      "execution_count": 13,
      "outputs": [
        {
          "output_type": "execute_result",
          "data": {
            "text/plain": [
              "False"
            ]
          },
          "metadata": {},
          "execution_count": 13
        }
      ]
    },
    {
      "cell_type": "code",
      "metadata": {
        "colab": {
          "base_uri": "https://localhost:8080/"
        },
        "id": "BQvX2AMOVSz7",
        "outputId": "0338da31-8c6d-4095-fb9f-a169f0ac5a48"
      },
      "source": [
        "dataset.isnull().sum()"
      ],
      "execution_count": 14,
      "outputs": [
        {
          "output_type": "execute_result",
          "data": {
            "text/plain": [
              "Global_active_power      0\n",
              "Global_reactive_power    0\n",
              "Voltage                  0\n",
              "Global_intensity         0\n",
              "Sub_metering_1           0\n",
              "Sub_metering_2           0\n",
              "Sub_metering_3           0\n",
              "dtype: int64"
            ]
          },
          "metadata": {},
          "execution_count": 14
        }
      ]
    },
    {
      "cell_type": "code",
      "metadata": {
        "id": "HKLwGvmdVpKV"
      },
      "source": [
        "# Obtém os valores dos atributos. Obtem os valores de cada variável num formato de array\n",
        "dataset_atrib = dataset.values"
      ],
      "execution_count": 17,
      "outputs": []
    },
    {
      "cell_type": "code",
      "metadata": {
        "id": "R2iMjBXpVpKV",
        "colab": {
          "base_uri": "https://localhost:8080/"
        },
        "outputId": "f5cc68a7-72f4-42d0-92e0-99aadaae99ff"
      },
      "source": [
        "#Imprime o array\n",
        "dataset_atrib  # variáveis de entrada - os valores de x - aprendizado não supervisionado pq nao temos o y entao vamos criar o cluster, o agrupamento."
      ],
      "execution_count": 19,
      "outputs": [
        {
          "output_type": "execute_result",
          "data": {
            "text/plain": [
              "array([['4.216', '0.418', '234.840', ..., '0.000', '1.000', 17.0],\n",
              "       ['5.360', '0.436', '233.630', ..., '0.000', '1.000', 16.0],\n",
              "       ['5.374', '0.498', '233.290', ..., '0.000', '2.000', 17.0],\n",
              "       ...,\n",
              "       ['4.894', '0.100', '238.680', ..., '0.000', '75.000', 0.0],\n",
              "       ['4.808', '0.000', '238.610', ..., '0.000', '74.000', 0.0],\n",
              "       ['4.104', '0.000', '239.690', ..., '0.000', '65.000', 0.0]],\n",
              "      dtype=object)"
            ]
          },
          "metadata": {},
          "execution_count": 19
        }
      ]
    },
    {
      "cell_type": "code",
      "metadata": {
        "id": "Ya_eg-aQaB2M"
      },
      "source": [
        "# Coleta uma amostra de 1% dos dados para não comprometer a memória do computador\n",
        "dataset, amostra2 = train_test_split(dataset_atrib, train_size = .01)"
      ],
      "execution_count": 20,
      "outputs": []
    },
    {
      "cell_type": "code",
      "metadata": {
        "id": "495H0OhPaB2M",
        "colab": {
          "base_uri": "https://localhost:8080/"
        },
        "outputId": "fdb42e9c-ce2c-413a-dc15-7f27453daa08"
      },
      "source": [
        "dataset.shape"
      ],
      "execution_count": 21,
      "outputs": [
        {
          "output_type": "execute_result",
          "data": {
            "text/plain": [
              "(1135, 7)"
            ]
          },
          "metadata": {},
          "execution_count": 21
        }
      ]
    },
    {
      "cell_type": "markdown",
      "metadata": {
        "id": "-7hp1ccIxHxW"
      },
      "source": [
        "#4° Máquina Preditiva Segmentação de Clientes"
      ]
    },
    {
      "cell_type": "markdown",
      "metadata": {
        "id": "g_Ki8GFjIG-m"
      },
      "source": [
        "### Usaremos o **PCA** para reduzir a quantidade de variáveis\n",
        "\n"
      ]
    },
    {
      "cell_type": "markdown",
      "metadata": {
        "id": "et3ResSvcJ_5"
      },
      "source": [
        "#### PCA é uma Técnica de Aprendizagem não supervisionada utilizada para reduzir a dimensionalidade dos dados.\n",
        "\n",
        "Cara, aqui é o seguinte:\n",
        "\n",
        "Transformamos as 7 variáveis em 2 variáveis (na verdade 2 componentes principais). O Importante é entender que a transformação\n",
        "foi realizada por meio de Matemática (Algebra), simples assim. O que aconteceu foi que juntamos as variáveis de acordo com sua semelhança entre si. Essa semelhança foi medida pela variância..."
      ]
    },
    {
      "cell_type": "code",
      "metadata": {
        "id": "MiDWJNtXVpKV"
      },
      "source": [
        "# Aplica redução de dimensionalidade no array das variáveis\n",
        "pca = PCA(n_components = 2).fit_transform(dataset)"
      ],
      "execution_count": 22,
      "outputs": []
    },
    {
      "cell_type": "markdown",
      "metadata": {
        "id": "ddm8irg1IpYh"
      },
      "source": [
        "![alt text](https://miro.medium.com/max/998/1*V9yJUH9tVrMQI88TuIkCFQ.gif)\n",
        "\n"
      ]
    },
    {
      "cell_type": "code",
      "metadata": {
        "id": "_eFQ1Ru1VpKV",
        "colab": {
          "base_uri": "https://localhost:8080/"
        },
        "outputId": "ad36e24e-bef6-4053-aae9-123eed5eb31c"
      },
      "source": [
        "# Determinando um range do Hyperparâmetro  \"K\"  do Kmeans\n",
        "k_range = range(1,12)\n",
        "k_range"
      ],
      "execution_count": 23,
      "outputs": [
        {
          "output_type": "execute_result",
          "data": {
            "text/plain": [
              "range(1, 12)"
            ]
          },
          "metadata": {},
          "execution_count": 23
        }
      ]
    },
    {
      "cell_type": "code",
      "metadata": {
        "id": "nmd_9uWsVpKV"
      },
      "source": [
        "# Aplicando o modelo K-Means para cada valor de K (esta célula pode levar bastante tempo para ser executada)\n",
        "k_means_var = [KMeans(n_clusters = k).fit(pca) for k in k_range]"
      ],
      "execution_count": 24,
      "outputs": []
    },
    {
      "cell_type": "markdown",
      "metadata": {
        "id": "zwdqamW3FgLE"
      },
      "source": [
        "### Usaremos o Algoritmo **Kmeans** para Criar os grupos (segmentos) de Clientes."
      ]
    },
    {
      "cell_type": "markdown",
      "metadata": {
        "id": "kxFzEyrwK-bY"
      },
      "source": [
        "![alt text](https://miro.medium.com/max/1017/1*vNng_oOsNRHKrlh3pjSAyA.png)"
      ]
    },
    {
      "cell_type": "markdown",
      "metadata": {
        "id": "Q7wTLaAUCxyt"
      },
      "source": [
        "* O agrupamento é guiado pelo princípio de que os itens dentro de um cluster devem ser muito semelhantes entre si, mas muito diferentes entre clusters.\n",
        "* Segmentação de clientes em grupos com demografia semelhante ou padrões de compra para campanhas de marketing direcionadas.\n",
        "* Simplificação de grandes conjuntos de dados agrupando características com valores semelhantes em um número menor de categorias homogêneas\n",
        "* Se você começar com dados sem rótulo ou seja sem variável target, você pode usar o clustering para criar rótulos de classe. A partir daí, você pode aplicar um algoritmo supervisionado, como árvores de decisão para encontrar os preditores mais importantes dessas classes!\n",
        "\n",
        "* A qualidade do agrupamento depende do algoritmo escolhido, da função de distância e da aplicação. Diz-se que a qualidade de um modelo de cluster é superior, quando a distância inter-cluster é maximizada e a distância intra-cluster é minimizada\n",
        "\n",
        "* Às vezes, o número de clusters é definido por requisitos de negócios ou a motivação para a análise.\n",
        "\n",
        "* Muito provavelmente, você terá um conhecimento a priori sobre os verdadeiros agrupamentos e você pode aplicar essa informação para escolher o número de clusters. (Ex: cliente bom/cliente médio/ cliente ruim   etc..."
      ]
    },
    {
      "cell_type": "markdown",
      "metadata": {
        "id": "Qz6o1ppabq1P"
      },
      "source": [
        "### Curva de Elbow"
      ]
    },
    {
      "cell_type": "code",
      "metadata": {
        "id": "gH_-nEPsVpKV",
        "colab": {
          "base_uri": "https://localhost:8080/",
          "height": 489
        },
        "outputId": "328f49bc-9245-4ea9-a37f-fc9c23660068"
      },
      "source": [
        "# Ajustando o centróide do cluster para cada modelo\n",
        "centroids = [X.cluster_centers_ for X in k_means_var]\n",
        "\n",
        "# Calculando a distância euclidiana de cada ponto de dado para o centróide\n",
        "k_euclid = [cdist(pca, cent, 'euclidean') for cent in centroids]\n",
        "dist = [np.min(ke, axis = 1) for ke in k_euclid]\n",
        "\n",
        "# Soma dos quadrados das distâncias dentro do cluster\n",
        "soma_quadrados_intra_cluster = [sum(d**2) for d in dist]\n",
        "\n",
        "# Soma total dos quadrados\n",
        "soma_total = sum(pdist(pca)**2)/pca.shape[0]\n",
        "\n",
        "# Soma dos quadrados entre clusters\n",
        "soma_quadrados_inter_cluster = soma_total - soma_quadrados_intra_cluster\n",
        "\n",
        "# Curva de Elbow\n",
        "fig = plt.figure()\n",
        "ax = fig.add_subplot(111)\n",
        "ax.plot(k_range, soma_quadrados_inter_cluster/soma_total * 100, 'b*-')\n",
        "ax.set_ylim((0,100))\n",
        "plt.grid(True)\n",
        "plt.xlabel('N° de Clusters')\n",
        "plt.ylabel('% de Variância Explicada')\n",
        "plt.title('Variância Explicada para cada Valor de K')"
      ],
      "execution_count": 25,
      "outputs": [
        {
          "output_type": "execute_result",
          "data": {
            "text/plain": [
              "Text(0.5, 1.0, 'Variância Explicada para cada Valor de K')"
            ]
          },
          "metadata": {},
          "execution_count": 25
        },
        {
          "output_type": "display_data",
          "data": {
            "text/plain": [
              "<Figure size 640x480 with 1 Axes>"
            ],
            "image/png": "[encoded data removed]"
          },
          "metadata": {}
        }
      ]
    },
    {
      "cell_type": "markdown",
      "metadata": {
        "id": "65cmQGZ5b8Z2"
      },
      "source": [
        "### Escolhendo um Valor de K inicial (igual a 8) para avaliação da Máquina Preditiva"
      ]
    },
    {
      "cell_type": "code",
      "metadata": {
        "id": "JeEEtVGLVpKV",
        "colab": {
          "base_uri": "https://localhost:8080/",
          "height": 74
        },
        "outputId": "83772c94-b658-4aab-bd93-f95431174ff1"
      },
      "source": [
        "# Criando um modelo com K = 8\n",
        "modelo_v1 = KMeans(n_clusters = 8)\n",
        "modelo_v1.fit(pca)"
      ],
      "execution_count": 26,
      "outputs": [
        {
          "output_type": "execute_result",
          "data": {
            "text/plain": [
              "KMeans()"
            ],
            "text/html": [
              "<style>#sk-container-id-1 {color: black;background-color: white;}#sk-container-id-1 pre{padding: 0;}#sk-container-id-1 div.sk-toggleable {background-color: white;}#sk-container-id-1 label.sk-toggleable__label {cursor: pointer;display: block;width: 100%;margin-bottom: 0;padding: 0.3em;box-sizing: border-box;text-align: center;}#sk-container-id-1 label.sk-toggleable__label-arrow:before {content: \"▸\";float: left;margin-right: 0.25em;color: #696969;}#sk-container-id-1 label.sk-toggleable__label-arrow:hover:before {color: black;}#sk-container-id-1 div.sk-estimator:hover label.sk-toggleable__label-arrow:before {color: black;}#sk-container-id-1 div.sk-toggleable__content {max-height: 0;max-width: 0;overflow: hidden;text-align: left;background-color: #f0f8ff;}#sk-container-id-1 div.sk-toggleable__content pre {margin: 0.2em;color: black;border-radius: 0.25em;background-color: #f0f8ff;}#sk-container-id-1 input.sk-toggleable__control:checked~div.sk-toggleable__content {max-height: 200px;max-width: 100%;overflow: auto;}#sk-container-id-1 input.sk-toggleable__control:checked~label.sk-toggleable__label-arrow:before {content: \"▾\";}#sk-container-id-1 div.sk-estimator input.sk-toggleable__control:checked~label.sk-toggleable__label {background-color: #d4ebff;}#sk-container-id-1 div.sk-label input.sk-toggleable__control:checked~label.sk-toggleable__label {background-color: #d4ebff;}#sk-container-id-1 input.sk-hidden--visually {border: 0;clip: rect(1px 1px 1px 1px);clip: rect(1px, 1px, 1px, 1px);height: 1px;margin: -1px;overflow: hidden;padding: 0;position: absolute;width: 1px;}#sk-container-id-1 div.sk-estimator {font-family: monospace;background-color: #f0f8ff;border: 1px dotted black;border-radius: 0.25em;box-sizing: border-box;margin-bottom: 0.5em;}#sk-container-id-1 div.sk-estimator:hover {background-color: #d4ebff;}#sk-container-id-1 div.sk-parallel-item::after {content: \"\";width: 100%;border-bottom: 1px solid gray;flex-grow: 1;}#sk-container-id-1 div.sk-label:hover label.sk-toggleable__label {background-color: #d4ebff;}#sk-container-id-1 div.sk-serial::before {content: \"\";position: absolute;border-left: 1px solid gray;box-sizing: border-box;top: 0;bottom: 0;left: 50%;z-index: 0;}#sk-container-id-1 div.sk-serial {display: flex;flex-direction: column;align-items: center;background-color: white;padding-right: 0.2em;padding-left: 0.2em;position: relative;}#sk-container-id-1 div.sk-item {position: relative;z-index: 1;}#sk-container-id-1 div.sk-parallel {display: flex;align-items: stretch;justify-content: center;background-color: white;position: relative;}#sk-container-id-1 div.sk-item::before, #sk-container-id-1 div.sk-parallel-item::before {content: \"\";position: absolute;border-left: 1px solid gray;box-sizing: border-box;top: 0;bottom: 0;left: 50%;z-index: -1;}#sk-container-id-1 div.sk-parallel-item {display: flex;flex-direction: column;z-index: 1;position: relative;background-color: white;}#sk-container-id-1 div.sk-parallel-item:first-child::after {align-self: flex-end;width: 50%;}#sk-container-id-1 div.sk-parallel-item:last-child::after {align-self: flex-start;width: 50%;}#sk-container-id-1 div.sk-parallel-item:only-child::after {width: 0;}#sk-container-id-1 div.sk-dashed-wrapped {border: 1px dashed gray;margin: 0 0.4em 0.5em 0.4em;box-sizing: border-box;padding-bottom: 0.4em;background-color: white;}#sk-container-id-1 div.sk-label label {font-family: monospace;font-weight: bold;display: inline-block;line-height: 1.2em;}#sk-container-id-1 div.sk-label-container {text-align: center;}#sk-container-id-1 div.sk-container {/* jupyter's `normalize.less` sets `[hidden] { display: none; }` but bootstrap.min.css set `[hidden] { display: none !important; }` so we also need the `!important` here to be able to override the default hidden behavior on the sphinx rendered scikit-learn.org. See: https://github.com/scikit-learn/scikit-learn/issues/21755 */display: inline-block !important;position: relative;}#sk-container-id-1 div.sk-text-repr-fallback {display: none;}</style><div id=\"sk-container-id-1\" class=\"sk-top-container\"><div class=\"sk-text-repr-fallback\"><pre>KMeans()</pre><b>In a Jupyter environment, please rerun this cell to show the HTML representation or trust the notebook. <br />On GitHub, the HTML representation is unable to render, please try loading this page with nbviewer.org.</b></div><div class=\"sk-container\" hidden><div class=\"sk-item\"><div class=\"sk-estimator sk-toggleable\"><input class=\"sk-toggleable__control sk-hidden--visually\" id=\"sk-estimator-id-1\" type=\"checkbox\" checked><label for=\"sk-estimator-id-1\" class=\"sk-toggleable__label sk-toggleable__label-arrow\">KMeans</label><div class=\"sk-toggleable__content\"><pre>KMeans()</pre></div></div></div></div></div>"
            ]
          },
          "metadata": {},
          "execution_count": 26
        }
      ]
    },
    {
      "cell_type": "markdown",
      "metadata": {
        "id": "nud1S3uWL34g"
      },
      "source": [
        "https://docs.scipy.org/doc/scipy/reference/generated/scipy.spatial.distance.pdist.html"
      ]
    },
    {
      "cell_type": "markdown",
      "metadata": {
        "id": "l_NQMaLKxKSS"
      },
      "source": [
        "#5° Avaliação da Máquina Preditiva"
      ]
    },
    {
      "cell_type": "markdown",
      "metadata": {
        "id": "BPld4YyKez8T"
      },
      "source": [
        "#### Avaliando a Máquina Preditiva V1 com k=8"
      ]
    },
    {
      "cell_type": "code",
      "metadata": {
        "id": "rUs3e0OIVpKV"
      },
      "source": [
        "# Obtém os valores mínimos e máximos e organiza o shape\n",
        "x_min, x_max = pca[:, 0].min() - 5, pca[:, 0].max() - 1\n",
        "y_min, y_max = pca[:, 1].min() + 1, pca[:, 1].max() + 5\n",
        "xx, yy = np.meshgrid(np.arange(x_min, x_max, .02), np.arange(y_min, y_max, .02))\n",
        "Z = modelo_v1.predict(np.c_[xx.ravel(), yy.ravel()])\n",
        "Z = Z.reshape(xx.shape)"
      ],
      "execution_count": null,
      "outputs": []
    },
    {
      "cell_type": "code",
      "metadata": {
        "id": "Bsbxb1cPVpKV"
      },
      "source": [
        "# Plot das áreas dos clusters\n",
        "plt.figure(1)\n",
        "plt.clf()\n",
        "plt.imshow(Z,\n",
        "           interpolation = 'nearest',\n",
        "           extent = (xx.min(), xx.max(), yy.min(), yy.max()),\n",
        "           cmap = plt.cm.Paired,\n",
        "           aspect = 'auto',\n",
        "           origin = 'lower')"
      ],
      "execution_count": null,
      "outputs": []
    },
    {
      "cell_type": "code",
      "metadata": {
        "id": "2eTZviBcVpKV"
      },
      "source": [
        "#Métrica de avaliação para Clusterização\n",
        "# The best value is 1 and the worst value is -1\n",
        "?silhouette_score"
      ],
      "execution_count": null,
      "outputs": []
    },
    {
      "cell_type": "code",
      "metadata": {
        "id": "kb_WNfIUVpKV",
        "colab": {
          "base_uri": "https://localhost:8080/"
        },
        "outputId": "0eb0dc8c-7eab-413c-d589-ee07bf11568d"
      },
      "source": [
        "# Silhouette Score\n",
        "labels = modelo_v1.labels_\n",
        "silhouette_score(pca, labels, metric = 'euclidean')"
      ],
      "execution_count": null,
      "outputs": [
        {
          "output_type": "execute_result",
          "data": {
            "text/plain": [
              "0.605442170975759"
            ]
          },
          "metadata": {
            "tags": []
          },
          "execution_count": 32
        }
      ]
    },
    {
      "cell_type": "markdown",
      "metadata": {
        "id": "8e4CgAlXd-P_"
      },
      "source": [
        "#### Avaliando a Máquina Preditiva V2 com K=9"
      ]
    },
    {
      "cell_type": "code",
      "metadata": {
        "colab": {
          "base_uri": "https://localhost:8080/"
        },
        "id": "uxoqyqopd7Ad",
        "outputId": "827dea71-7290-4bf5-a6de-1fbe38223979"
      },
      "source": [
        "# Criando um modelo com K = 9\n",
        "modelo_v2 = KMeans(n_clusters = 9)\n",
        "modelo_v2.fit(pca)"
      ],
      "execution_count": null,
      "outputs": [
        {
          "output_type": "execute_result",
          "data": {
            "text/plain": [
              "KMeans(algorithm='auto', copy_x=True, init='k-means++', max_iter=300,\n",
              "       n_clusters=9, n_init=10, n_jobs=None, precompute_distances='auto',\n",
              "       random_state=None, tol=0.0001, verbose=0)"
            ]
          },
          "metadata": {
            "tags": []
          },
          "execution_count": 43
        }
      ]
    },
    {
      "cell_type": "code",
      "metadata": {
        "colab": {
          "base_uri": "https://localhost:8080/"
        },
        "id": "a6h0CmEEd_Yj",
        "outputId": "696cd983-addc-410c-f9ec-cabb538b473b"
      },
      "source": [
        "# Silhouette Score\n",
        "labels = modelo_v2.labels_\n",
        "silhouette_score(pca, labels, metric = 'euclidean')"
      ],
      "execution_count": null,
      "outputs": [
        {
          "output_type": "execute_result",
          "data": {
            "text/plain": [
              "0.6824612530173378"
            ]
          },
          "metadata": {
            "tags": []
          },
          "execution_count": 44
        }
      ]
    },
    {
      "cell_type": "markdown",
      "metadata": {
        "id": "8ck-sZGidQjQ"
      },
      "source": [
        "#### Avaliando a Máquina Preditiva V3 com K=10"
      ]
    },
    {
      "cell_type": "code",
      "metadata": {
        "id": "LoY6_BGUVpKV"
      },
      "source": [
        "# Criando um modelo com K = 10\n",
        "modelo_v2 = KMeans(n_clusters = 10)\n",
        "modelo_v2.fit(pca)"
      ],
      "execution_count": null,
      "outputs": []
    },
    {
      "cell_type": "code",
      "metadata": {
        "id": "bmFYvQLwVpKV",
        "colab": {
          "base_uri": "https://localhost:8080/"
        },
        "outputId": "9974cc1c-13ba-42e5-ef3a-0e3f9b66518b"
      },
      "source": [
        "# Silhouette Score\n",
        "labels = modelo_v2.labels_\n",
        "silhouette_score(pca, labels, metric = 'euclidean')"
      ],
      "execution_count": null,
      "outputs": [
        {
          "output_type": "execute_result",
          "data": {
            "text/plain": [
              "0.6364236122740907"
            ]
          },
          "metadata": {
            "tags": []
          },
          "execution_count": 34
        }
      ]
    },
    {
      "cell_type": "markdown",
      "metadata": {
        "id": "8WBOZU-BdZxH"
      },
      "source": [
        "#### Avaliando a Máquina Preditiva V4 com K=11"
      ]
    },
    {
      "cell_type": "code",
      "metadata": {
        "colab": {
          "base_uri": "https://localhost:8080/"
        },
        "id": "lUP-V3Q0372R",
        "outputId": "cb6a02b2-b466-4a5a-ee03-debae32aa171"
      },
      "source": [
        "# Criando um modelo com K = 11\n",
        "modelo_v3 = KMeans(n_clusters = 11)\n",
        "modelo_v3.fit(pca)"
      ],
      "execution_count": null,
      "outputs": [
        {
          "output_type": "execute_result",
          "data": {
            "text/plain": [
              "KMeans(algorithm='auto', copy_x=True, init='k-means++', max_iter=300,\n",
              "       n_clusters=11, n_init=10, n_jobs=None, precompute_distances='auto',\n",
              "       random_state=None, tol=0.0001, verbose=0)"
            ]
          },
          "metadata": {
            "tags": []
          },
          "execution_count": 35
        }
      ]
    },
    {
      "cell_type": "code",
      "metadata": {
        "colab": {
          "base_uri": "https://localhost:8080/"
        },
        "id": "OH3iCrNa372U",
        "outputId": "f228b712-d78b-44ab-8e7c-3697a43702ef"
      },
      "source": [
        "# Silhouette Score\n",
        "labels = modelo_v3.labels_\n",
        "silhouette_score(pca, labels, metric = 'euclidean')"
      ],
      "execution_count": null,
      "outputs": [
        {
          "output_type": "execute_result",
          "data": {
            "text/plain": [
              "0.6359833488484669"
            ]
          },
          "metadata": {
            "tags": []
          },
          "execution_count": 38
        }
      ]
    },
    {
      "cell_type": "markdown",
      "metadata": {
        "id": "c38JHdIQVpKW"
      },
      "source": [
        "# <font color='Blue'>Usando a Marcação dos Clusters da Máquina Preditiva Final.</font>\n",
        "\n"
      ]
    },
    {
      "cell_type": "code",
      "metadata": {
        "id": "0xTPL5HkVpKW"
      },
      "source": [
        "# Lista com nomes das colunas\n",
        "names = ['Global_active_power', 'Global_reactive_power', 'Voltage', 'Global_intensity', 'Sub_metering_1', 'Sub_metering_2', 'Sub_metering_3']"
      ],
      "execution_count": null,
      "outputs": []
    },
    {
      "cell_type": "code",
      "metadata": {
        "id": "eEO82xMZVpKW"
      },
      "source": [
        "# Incluindo o n° do cluster na base de clientes\n",
        "cluster_map = pd.DataFrame(dataset, columns = names)\n",
        "cluster_map['Global_active_power'] = pd.to_numeric(cluster_map['Global_active_power'])\n",
        "cluster_map['cluster'] = modelo_v2.labels_"
      ],
      "execution_count": null,
      "outputs": []
    },
    {
      "cell_type": "code",
      "metadata": {
        "id": "UllmsyGUVpKW"
      },
      "source": [
        "cluster_map"
      ],
      "execution_count": null,
      "outputs": []
    },
    {
      "cell_type": "code",
      "metadata": {
        "id": "EAVaO81cVpKW",
        "colab": {
          "base_uri": "https://localhost:8080/"
        },
        "outputId": "94b8251f-f684-49be-8f0f-047a20d0b5cd"
      },
      "source": [
        "# Calcula a média de consumo de energia por cluster\n",
        "cluster_map.groupby('cluster')['Global_active_power'].mean()"
      ],
      "execution_count": null,
      "outputs": [
        {
          "output_type": "execute_result",
          "data": {
            "text/plain": [
              "cluster\n",
              "0    1.809054\n",
              "1    1.548473\n",
              "2    4.570247\n",
              "3    2.663121\n",
              "4    2.358853\n",
              "5    3.317606\n",
              "6    3.801114\n",
              "7    0.363262\n",
              "8    1.100518\n",
              "Name: Global_active_power, dtype: float64"
            ]
          },
          "metadata": {
            "tags": []
          },
          "execution_count": 49
        }
      ]
    },
    {
      "cell_type": "markdown",
      "metadata": {
        "id": "HCmFWTCK8VjD"
      },
      "source": [
        "\n",
        "![alt text](https://miro.medium.com/max/1000/1*b-a36se7e3NlJCfT4w8bJQ.gif)"
      ]
    },
    {
      "cell_type": "markdown",
      "metadata": {
        "id": "cqNWuUW1xMIm"
      },
      "source": [
        "# **Resumão**\n",
        "\n",
        "1. Porque **PCA**:\n",
        "\n",
        "Para acelerar o tempo de desenvolvimento (uso 2 componentes ao invés de 7 variáveis) A mesma informação das 7 variáveis compactadas em 2 componentes usando autovetores e autovalores...\n",
        "\n",
        "2. Valor de **K**:\n",
        "\n",
        "Não sabemos o melhor....Vamos usar uma range de valores\n",
        "\n",
        "3. **Cluster_centers**:\n",
        "\n",
        "São os Centróides dos quais se calculam a distância matemática de cada consumidor\n",
        "\n",
        "4. **Métrica** de Avaliação da Máquina:\n",
        "\n",
        "Usamos o Silhouete Score. Quanto mais próximo de 1, melhor.\n",
        "\n",
        "5. **Resultado**:\n",
        "\n",
        "O Grupo 4 tem maior consumo de energia...\n",
        "Quais as principais diferenças entre os grupos que consomem mais energia?\n",
        "Depois de criado o cluster poderia fazer previsão do consumo de energia do próximo período\n",
        "\n",
        "Pode utilizar o cluster como variável de outra Máquina Preditiva que faz previsão de consumo otimizando a cadeia de distribuição e fornecimento de Energia.\n",
        "\n",
        "A clusterização não é o FIm. Ela é o meio. Ela agrupa os dados. Depois vc toma decisões...\n"
      ]
    },
    {
      "cell_type": "markdown",
      "metadata": {
        "id": "SLF6vuqmxTUL"
      },
      "source": [
        "#Fim"
      ]
    },
    {
      "cell_type": "markdown",
      "metadata": {
        "id": "_fHqFSvWe94c"
      },
      "source": [
        "## Valeu!"
      ]
    },
    {
      "cell_type": "markdown",
      "metadata": {
        "id": "_2DT4SBZRDP-"
      },
      "source": [
        "### #Links - Ciência dos Dados <a href=\"https://linktr.ee/cienciadosdados\">https://linktr.ee/cienciadosdados</a>"
      ]
    },
    {
      "cell_type": "markdown",
      "metadata": {
        "id": "a9bmgwvdLx4R"
      },
      "source": [
        "### Fonte sugerida: https://minerandodados.com.br/entenda-o-algoritmo-k-means/"
      ]
    },
    {
      "cell_type": "markdown",
      "metadata": {
        "id": "ThxYRK6DfJ3f"
      },
      "source": [
        "### #YouTube - Mais Aulas como essa no YouTube <a href=\"https://www.youtube.com/watch?v=IaIc5oHd3II&t=1569s\">https://www.youtube.com/watch?v=IaIc5oHd3II&t=1569s</a>"
      ]
    },
    {
      "cell_type": "code",
      "metadata": {
        "id": "_pg8zEm-Nv6Y",
        "colab": {
          "base_uri": "https://localhost:8080/",
          "height": 221
        },
        "outputId": "b9a2391a-eceb-4193-982c-1fc7738f71fb"
      },
      "source": [
        "from IPython.core.display import HTML\n",
        "HTML('<iframe width=\"380\" height=\"200\" src=\"https://www.youtube.com/embed/q-7SbZpR1hQ\" frameborder=\"0\" allow=\"accelerometer; autoplay; clipboard-write; encrypted-media; gyroscope; picture-in-picture\" allowfullscreen></iframe>')"
      ],
      "execution_count": null,
      "outputs": [
        {
          "output_type": "execute_result",
          "data": {
            "text/html": [
              "<iframe width=\"380\" height=\"200\" src=\"https://www.youtube.com/embed/q-7SbZpR1hQ\" frameborder=\"0\" allow=\"accelerometer; autoplay; clipboard-write; encrypted-media; gyroscope; picture-in-picture\" allowfullscreen></iframe>"
            ],
            "text/plain": [
              "<IPython.core.display.HTML object>"
            ]
          },
          "metadata": {
            "tags": []
          },
          "execution_count": 63
        }
      ]
    }
  ]
}